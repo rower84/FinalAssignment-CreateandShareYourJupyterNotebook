{
 "cells": [
  {
   "cell_type": "markdown",
   "id": "196eab31-a809-4e85-8337-1e06ae28913e",
   "metadata": {},
   "source": [
    "# Data Science Tools and Ecosystem"
   ]
  },
  {
   "cell_type": "markdown",
   "id": "91e312b9-cd50-42b4-b23a-ffdfd02bb04a",
   "metadata": {},
   "source": [
    "In this notebook, Data Science Tools and Ecosystem are summarized."
   ]
  },
  {
   "cell_type": "markdown",
   "id": "78807249-5a80-443b-a292-6d6cb2247720",
   "metadata": {},
   "source": [
    "**Objectives:**\n",
    "- List popular languages for Data Science\n",
    "- List libraries used by Data Scientists \n",
    "- Three development environment open source tools used in data science\n",
    "- Examples of evaluating arithmetic expressions in Python"
   ]
  },
  {
   "cell_type": "markdown",
   "id": "a3a56fa3-109b-4b2e-815f-5c1d75852d88",
   "metadata": {},
   "source": [
    "Some of the popular languages that Data Scientists use are:\n",
    "1. Python\n",
    "2. R\n",
    "3. SQL"
   ]
  },
  {
   "cell_type": "markdown",
   "id": "a5b9142e-da20-48df-8d47-197d305b14c1",
   "metadata": {},
   "source": [
    "Some of the commonly used libraries used by Data Scientists include:}\n",
    "1. Pandas\n",
    "2. Numpy\n",
    "3. Matplotlib"
   ]
  },
  {
   "cell_type": "markdown",
   "id": "1cab8c62-661f-4b4b-94b9-8f4e2a8f179a",
   "metadata": {},
   "source": [
    "Three development environment open source tools used in data science:\n",
    "\n",
    "|Data Science Tools|\n",
    "--------------------\n",
    "|Jupyter|\n",
    "|Zeppelin|\n",
    "|RStudio|"
   ]
  },
  {
   "cell_type": "markdown",
   "id": "f552f423-8d5e-48a8-9581-55059a6b62cc",
   "metadata": {},
   "source": [
    "### Below are a few examples of evaluating arithmetic expressions in Python"
   ]
  },
  {
   "cell_type": "code",
   "execution_count": 15,
   "id": "34cdaeb2-bea1-45c1-8273-ec36e25b5495",
   "metadata": {},
   "outputs": [
    {
     "data": {
      "text/plain": [
       "17"
      ]
     },
     "execution_count": 15,
     "metadata": {},
     "output_type": "execute_result"
    }
   ],
   "source": [
    " #This a simple arithmetic expression to mutiply then add integers\n",
    "(3*4)+5"
   ]
  },
  {
   "cell_type": "code",
   "execution_count": 17,
   "id": "b37d2c33-6381-4fd2-b5ab-8afdd365379b",
   "metadata": {},
   "outputs": [
    {
     "data": {
      "text/plain": [
       "3.3333333333333335"
      ]
     },
     "execution_count": 17,
     "metadata": {},
     "output_type": "execute_result"
    }
   ],
   "source": [
    "#This will convert 200 minutes to hours by diving by 60\n",
    "200/60"
   ]
  },
  {
   "cell_type": "markdown",
   "id": "f8790724-7720-4448-a0bc-75ef896c94af",
   "metadata": {},
   "source": [
    "## Author"
   ]
  },
  {
   "cell_type": "markdown",
   "id": "419d3312-21ac-445c-a8eb-68b142b1f796",
   "metadata": {},
   "source": [
    "Rower Retamozo"
   ]
  },
  {
   "cell_type": "code",
   "execution_count": null,
   "id": "296d2d97-11bc-4a8c-b7bf-55cde0cc31ed",
   "metadata": {},
   "outputs": [],
   "source": []
  }
 ],
 "metadata": {
  "kernelspec": {
   "display_name": "Python 3 (ipykernel)",
   "language": "python",
   "name": "python3"
  },
  "language_info": {
   "codemirror_mode": {
    "name": "ipython",
    "version": 3
   },
   "file_extension": ".py",
   "mimetype": "text/x-python",
   "name": "python",
   "nbconvert_exporter": "python",
   "pygments_lexer": "ipython3",
   "version": "3.11.5"
  }
 },
 "nbformat": 4,
 "nbformat_minor": 5
}
